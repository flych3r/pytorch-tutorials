{
  "nbformat": 4,
  "nbformat_minor": 0,
  "metadata": {
    "kernelspec": {
      "display_name": "Python 3",
      "language": "python",
      "name": "python3"
    },
    "language_info": {
      "codemirror_mode": {
        "name": "ipython",
        "version": 3
      },
      "file_extension": ".py",
      "mimetype": "text/x-python",
      "name": "python",
      "nbconvert_exporter": "python",
      "pygments_lexer": "ipython3",
      "version": "3.7.7-final"
    },
    "colab": {
      "name": "tensor_tutorial.ipynb",
      "provenance": []
    }
  },
  "cells": [
    {
      "cell_type": "markdown",
      "metadata": {
        "id": "e6AdWXHAUUgl",
        "colab_type": "text"
      },
      "source": [
        "\n",
        "# What is PyTorch?\n",
        "\n",
        "It’s a Python-based scientific computing package targeted at two sets of\n",
        "audiences:\n",
        "\n",
        " *  A replacement for NumPy to use the power of GPUs\n",
        " *  a deep learning research platform that provides maximum flexibility and speed\n"
      ]
    },
    {
      "cell_type": "code",
      "metadata": {
        "id": "4wXoAZ0zUUgm",
        "colab_type": "code",
        "colab": {}
      },
      "source": [
        "import torch"
      ],
      "execution_count": 1,
      "outputs": []
    },
    {
      "cell_type": "markdown",
      "metadata": {
        "id": "S3dI56FIVQii",
        "colab_type": "text"
      },
      "source": [
        "## Tensors\n",
        "\n",
        "* Tensors are similar to NumPy’s ndarrays, with the addition being that\n",
        "* Tensors can also be used on a GPU to accelerate computing."
      ]
    },
    {
      "cell_type": "markdown",
      "metadata": {
        "id": "hNHPEpryUUgs",
        "colab_type": "text"
      },
      "source": [
        "**_Note:_** An uninitialized matrix is declared, but does not contain definite known values before it is used. When an uninitialized matrix is created, whatever values were in the allocated memory at the time will appear as the initial values.\n",
        "\n"
      ]
    },
    {
      "cell_type": "markdown",
      "metadata": {
        "id": "YW9vifznUUgt",
        "colab_type": "text"
      },
      "source": [
        "Construct a 5x3 matrix, uninitialized:\n",
        "\n"
      ]
    },
    {
      "cell_type": "code",
      "metadata": {
        "id": "pIVyVP0yUUgu",
        "colab_type": "code",
        "colab": {
          "base_uri": "https://localhost:8080/",
          "height": 102
        },
        "outputId": "c6bf4dcb-3d27-4eac-e3b5-c3d4fc9be192",
        "tags": []
      },
      "source": [
        "x = torch.empty(5, 3)\n",
        "print(x)"
      ],
      "execution_count": 2,
      "outputs": [
        {
          "output_type": "stream",
          "name": "stdout",
          "text": "tensor([[ 1.2612e-44,  0.0000e+00, -1.4417e-35],\n        [ 4.5773e-41, -1.1674e-14,  3.0660e-41],\n        [        nan,         nan,  0.0000e+00],\n        [ 0.0000e+00,         nan,         nan],\n        [ 0.0000e+00,  0.0000e+00,  1.4013e-45]])\n"
        }
      ]
    },
    {
      "cell_type": "markdown",
      "metadata": {
        "id": "SRW8jjquUUgy",
        "colab_type": "text"
      },
      "source": [
        "Construct a randomly initialized matrix:\n",
        "\n"
      ]
    },
    {
      "cell_type": "code",
      "metadata": {
        "id": "Qc9bf-A8UUg0",
        "colab_type": "code",
        "colab": {
          "base_uri": "https://localhost:8080/",
          "height": 102
        },
        "outputId": "e386fef9-133b-4050-eb9e-b7cdebe21802",
        "tags": []
      },
      "source": [
        "x = torch.rand(5, 3)\n",
        "print(x)"
      ],
      "execution_count": 3,
      "outputs": [
        {
          "output_type": "stream",
          "name": "stdout",
          "text": "tensor([[0.2753, 0.5642, 0.0486],\n        [0.8075, 0.6482, 0.3002],\n        [0.3635, 0.2036, 0.9833],\n        [0.1823, 0.5091, 0.0073],\n        [0.9670, 0.6349, 0.6913]])\n"
        }
      ]
    },
    {
      "cell_type": "markdown",
      "metadata": {
        "id": "58QQvnDIUUg6",
        "colab_type": "text"
      },
      "source": [
        "Construct a matrix filled zeros and of dtype long:\n",
        "\n"
      ]
    },
    {
      "cell_type": "code",
      "metadata": {
        "id": "_wqAiVWiUUg7",
        "colab_type": "code",
        "colab": {
          "base_uri": "https://localhost:8080/",
          "height": 102
        },
        "outputId": "69139eac-8cc1-4b3e-c19a-f24f7c37f8e4",
        "tags": []
      },
      "source": [
        "x = torch.zeros(5, 3, dtype=torch.long)\n",
        "print(x)"
      ],
      "execution_count": 4,
      "outputs": [
        {
          "output_type": "stream",
          "name": "stdout",
          "text": "tensor([[0, 0, 0],\n        [0, 0, 0],\n        [0, 0, 0],\n        [0, 0, 0],\n        [0, 0, 0]])\n"
        }
      ]
    },
    {
      "cell_type": "markdown",
      "metadata": {
        "id": "ItrWxOwVUUhB",
        "colab_type": "text"
      },
      "source": [
        "Construct a tensor directly from data:\n",
        "\n"
      ]
    },
    {
      "cell_type": "code",
      "metadata": {
        "id": "cHx8KM2rUUhC",
        "colab_type": "code",
        "colab": {
          "base_uri": "https://localhost:8080/",
          "height": 34
        },
        "outputId": "248500fc-284a-4934-e1fc-de1bfd09bd6f",
        "tags": []
      },
      "source": [
        "x = torch.tensor([5.5, 3])\n",
        "print(x)"
      ],
      "execution_count": 5,
      "outputs": [
        {
          "output_type": "stream",
          "name": "stdout",
          "text": "tensor([5.5000, 3.0000])\n"
        }
      ]
    },
    {
      "cell_type": "markdown",
      "metadata": {
        "id": "3P01cJvQUUhH",
        "colab_type": "text"
      },
      "source": [
        "or create a tensor based on an existing tensor. These methods\n",
        "will reuse properties of the input tensor, e.g. dtype, unless\n",
        "new values are provided by user\n",
        "\n"
      ]
    },
    {
      "cell_type": "code",
      "metadata": {
        "id": "5GEhBQGmUUhI",
        "colab_type": "code",
        "colab": {
          "base_uri": "https://localhost:8080/",
          "height": 187
        },
        "outputId": "fd64b0eb-227e-4ca6-d447-008d09b35274",
        "tags": []
      },
      "source": [
        "x = x.new_ones(5, 3, dtype=torch.double)      # new_* methods take in sizes\n",
        "print(x)\n",
        "\n",
        "x = torch.randn_like(x, dtype=torch.float)    # override dtype!\n",
        "print(x)                                      # result has the same size"
      ],
      "execution_count": 6,
      "outputs": [
        {
          "output_type": "stream",
          "name": "stdout",
          "text": "tensor([[1., 1., 1.],\n        [1., 1., 1.],\n        [1., 1., 1.],\n        [1., 1., 1.],\n        [1., 1., 1.]], dtype=torch.float64)\ntensor([[-0.9934,  0.3487,  0.3726],\n        [ 0.1265, -0.3800, -1.1921],\n        [ 2.1535, -0.9244, -0.0055],\n        [-2.1453, -1.2738, -0.2230],\n        [ 0.3765, -1.3691,  1.9273]])\n"
        }
      ]
    },
    {
      "cell_type": "markdown",
      "metadata": {
        "id": "u35tmN00UUhM",
        "colab_type": "text"
      },
      "source": [
        "Get its size:\n",
        "\n"
      ]
    },
    {
      "cell_type": "code",
      "metadata": {
        "id": "VU7ApnLQUUhN",
        "colab_type": "code",
        "colab": {
          "base_uri": "https://localhost:8080/",
          "height": 34
        },
        "outputId": "d4ec294a-39d4-4e36-b25a-34162cbbb185",
        "tags": []
      },
      "source": [
        "print(x.size())"
      ],
      "execution_count": 7,
      "outputs": [
        {
          "output_type": "stream",
          "name": "stdout",
          "text": "torch.Size([5, 3])\n"
        }
      ]
    },
    {
      "cell_type": "markdown",
      "metadata": {
        "id": "4Fv3BoVxUUhR",
        "colab_type": "text"
      },
      "source": [
        "**_Note:_** `torch.size` is in fact a tuple, so it supports all tuple operations.\n"
      ]
    },
    {
      "cell_type": "markdown",
      "metadata": {
        "id": "ExXlWS-AWdw5",
        "colab_type": "text"
      },
      "source": [
        "## Operations\n",
        "\n",
        "There are multiple syntaxes for operations. In the following\n",
        "example, we will take a look at the addition operation."
      ]
    },
    {
      "cell_type": "markdown",
      "metadata": {
        "id": "pFi9JYoMWlHr",
        "colab_type": "text"
      },
      "source": [
        "Addition: syntax 1"
      ]
    },
    {
      "cell_type": "code",
      "metadata": {
        "id": "h__fR-VEUUhS",
        "colab_type": "code",
        "colab": {
          "base_uri": "https://localhost:8080/",
          "height": 102
        },
        "outputId": "37e8b3f3-d63b-4e89-e94a-7de8d1e60545",
        "tags": []
      },
      "source": [
        "y = torch.rand(5, 3)\n",
        "print(x + y)"
      ],
      "execution_count": 8,
      "outputs": [
        {
          "output_type": "stream",
          "name": "stdout",
          "text": "tensor([[-0.4461,  1.2642,  1.1159],\n        [ 1.0441,  0.4131, -0.7888],\n        [ 2.1589, -0.0176,  0.0756],\n        [-1.6454, -0.5655, -0.1729],\n        [ 0.8892, -0.8552,  2.5645]])\n"
        }
      ]
    },
    {
      "cell_type": "markdown",
      "metadata": {
        "id": "4lqbY3lDUUhW",
        "colab_type": "text"
      },
      "source": [
        "Addition: syntax 2\n",
        "\n"
      ]
    },
    {
      "cell_type": "code",
      "metadata": {
        "id": "UWQ35sKEUUhX",
        "colab_type": "code",
        "colab": {
          "base_uri": "https://localhost:8080/",
          "height": 102
        },
        "outputId": "07f426d4-17dd-4e35-d245-5ad9c9927b15",
        "tags": []
      },
      "source": [
        "print(torch.add(x, y))"
      ],
      "execution_count": 9,
      "outputs": [
        {
          "output_type": "stream",
          "name": "stdout",
          "text": "tensor([[-0.4461,  1.2642,  1.1159],\n        [ 1.0441,  0.4131, -0.7888],\n        [ 2.1589, -0.0176,  0.0756],\n        [-1.6454, -0.5655, -0.1729],\n        [ 0.8892, -0.8552,  2.5645]])\n"
        }
      ]
    },
    {
      "cell_type": "markdown",
      "metadata": {
        "id": "8Yi-WMOwUUhd",
        "colab_type": "text"
      },
      "source": [
        "Addition: providing an output tensor as argument\n",
        "\n"
      ]
    },
    {
      "cell_type": "code",
      "metadata": {
        "id": "XIUqm79XUUhe",
        "colab_type": "code",
        "colab": {
          "base_uri": "https://localhost:8080/",
          "height": 102
        },
        "outputId": "c3fa701f-e0d4-4dc6-d375-7ca9bcceff55",
        "tags": []
      },
      "source": [
        "result = torch.empty(5, 3)\n",
        "torch.add(x, y, out=result)\n",
        "print(result)"
      ],
      "execution_count": 10,
      "outputs": [
        {
          "output_type": "stream",
          "name": "stdout",
          "text": "tensor([[-0.4461,  1.2642,  1.1159],\n        [ 1.0441,  0.4131, -0.7888],\n        [ 2.1589, -0.0176,  0.0756],\n        [-1.6454, -0.5655, -0.1729],\n        [ 0.8892, -0.8552,  2.5645]])\n"
        }
      ]
    },
    {
      "cell_type": "markdown",
      "metadata": {
        "id": "ju2R5W0QUUhh",
        "colab_type": "text"
      },
      "source": [
        "Addition: in-place\n",
        "\n"
      ]
    },
    {
      "cell_type": "code",
      "metadata": {
        "id": "RAHofa-3UUhi",
        "colab_type": "code",
        "colab": {
          "base_uri": "https://localhost:8080/",
          "height": 102
        },
        "outputId": "f79ddd6b-dd1a-4ad8-f348-0d9b83a3e1ca",
        "tags": []
      },
      "source": [
        "# adds x to y\n",
        "y.add_(x)\n",
        "print(y)"
      ],
      "execution_count": 11,
      "outputs": [
        {
          "output_type": "stream",
          "name": "stdout",
          "text": "tensor([[-0.4461,  1.2642,  1.1159],\n        [ 1.0441,  0.4131, -0.7888],\n        [ 2.1589, -0.0176,  0.0756],\n        [-1.6454, -0.5655, -0.1729],\n        [ 0.8892, -0.8552,  2.5645]])\n"
        }
      ]
    },
    {
      "cell_type": "markdown",
      "metadata": {
        "id": "XaFmjHbeUUhl",
        "colab_type": "text"
      },
      "source": [
        "**_Note:_** Any operation that mutates a tensor in-place is post-fixed with an `_`. For example: `x.copy_(y)` or `x.t_()`, will change `x`"
      ]
    },
    {
      "cell_type": "markdown",
      "metadata": {
        "id": "mNezOZElW875",
        "colab_type": "text"
      },
      "source": [
        "You can use standard NumPy-like indexing with all bells and whistles!"
      ]
    },
    {
      "cell_type": "code",
      "metadata": {
        "id": "KSuYdsqKUUhm",
        "colab_type": "code",
        "colab": {
          "base_uri": "https://localhost:8080/",
          "height": 34
        },
        "outputId": "95982498-3cf5-4c75-cbb4-33cbd6cf2f8a",
        "tags": []
      },
      "source": [
        "print(x[:, 1])"
      ],
      "execution_count": 12,
      "outputs": [
        {
          "output_type": "stream",
          "name": "stdout",
          "text": "tensor([ 0.3487, -0.3800, -0.9244, -1.2738, -1.3691])\n"
        }
      ]
    },
    {
      "cell_type": "markdown",
      "metadata": {
        "id": "wm5z1mvFUUhq",
        "colab_type": "text"
      },
      "source": [
        "Resizing: If you want to resize/reshape tensor, you can use `torch.view`\n",
        "\n"
      ]
    },
    {
      "cell_type": "code",
      "metadata": {
        "id": "WTxW5GogUUhq",
        "colab_type": "code",
        "colab": {
          "base_uri": "https://localhost:8080/",
          "height": 34
        },
        "outputId": "a08ed49b-7508-47b7-eb8f-d7e4035bfe89",
        "tags": []
      },
      "source": [
        "x = torch.randn(4, 4)\n",
        "y = x.view(16)\n",
        "z = x.view(-1, 8)  # the size -1 is inferred from other dimensions\n",
        "print(x.size(), y.size(), z.size())"
      ],
      "execution_count": 13,
      "outputs": [
        {
          "output_type": "stream",
          "name": "stdout",
          "text": "torch.Size([4, 4]) torch.Size([16]) torch.Size([2, 8])\n"
        }
      ]
    },
    {
      "cell_type": "markdown",
      "metadata": {
        "id": "Evt6CeMQUUht",
        "colab_type": "text"
      },
      "source": [
        "If you have a one element tensor, use ``.item()`` to get the value as a\n",
        "Python number\n",
        "\n"
      ]
    },
    {
      "cell_type": "code",
      "metadata": {
        "id": "dBzrdAafUUhu",
        "colab_type": "code",
        "colab": {
          "base_uri": "https://localhost:8080/",
          "height": 51
        },
        "outputId": "e5579cd9-8a58-4d4d-d888-11103f47b7be",
        "tags": []
      },
      "source": [
        "x = torch.randn(1)\n",
        "print(x)\n",
        "print(x.item())"
      ],
      "execution_count": 14,
      "outputs": [
        {
          "output_type": "stream",
          "name": "stdout",
          "text": "tensor([-0.9274])\n-0.9273894429206848\n"
        }
      ]
    },
    {
      "cell_type": "markdown",
      "metadata": {
        "id": "4iV_ITU3UUhy",
        "colab_type": "text"
      },
      "source": [
        "**Read later:**\n",
        "\n",
        "  100+ Tensor operations, including transposing, indexing, slicing,\n",
        "  mathematical operations, linear algebra, random numbers, etc.,\n",
        "  are described in `<https://pytorch.org/docs/torch>`"
      ]
    },
    {
      "cell_type": "markdown",
      "metadata": {
        "id": "naukdrGJXWaP",
        "colab_type": "text"
      },
      "source": [
        "## NumPy Bridge\n",
        "\n",
        "Converting a Torch Tensor to a NumPy array and vice versa is a breeze.\n",
        "\n",
        "The Torch Tensor and NumPy array will share their underlying memory\n",
        "locations (if the Torch Tensor is on CPU), and changing one will change\n",
        "the other."
      ]
    },
    {
      "cell_type": "markdown",
      "metadata": {
        "id": "0suXdXm_XctM",
        "colab_type": "text"
      },
      "source": [
        "Converting a Torch Tensor to a NumPy Array"
      ]
    },
    {
      "cell_type": "code",
      "metadata": {
        "id": "tR4w1GBWUUhz",
        "colab_type": "code",
        "colab": {
          "base_uri": "https://localhost:8080/",
          "height": 34
        },
        "outputId": "e25ca6d7-ae4b-4db5-d261-c0ad5811a6bc",
        "tags": []
      },
      "source": [
        "a = torch.ones(5)\n",
        "print(a)"
      ],
      "execution_count": 15,
      "outputs": [
        {
          "output_type": "stream",
          "name": "stdout",
          "text": "tensor([1., 1., 1., 1., 1.])\n"
        }
      ]
    },
    {
      "cell_type": "code",
      "metadata": {
        "id": "o4-K2pSXUUh2",
        "colab_type": "code",
        "colab": {
          "base_uri": "https://localhost:8080/",
          "height": 34
        },
        "outputId": "4df78186-983a-4fb0-9298-d3abf2cd91eb",
        "tags": []
      },
      "source": [
        "b = a.numpy()\n",
        "print(b)"
      ],
      "execution_count": 16,
      "outputs": [
        {
          "output_type": "stream",
          "name": "stdout",
          "text": "[1. 1. 1. 1. 1.]\n"
        }
      ]
    },
    {
      "cell_type": "markdown",
      "metadata": {
        "id": "BRA8hsoGUUh7",
        "colab_type": "text"
      },
      "source": [
        "See how the numpy array changed in value.\n",
        "\n"
      ]
    },
    {
      "cell_type": "code",
      "metadata": {
        "id": "jsN8kX6VUUh8",
        "colab_type": "code",
        "colab": {
          "base_uri": "https://localhost:8080/",
          "height": 51
        },
        "outputId": "1269fd98-9729-477e-ca83-00a923ea3c81",
        "tags": []
      },
      "source": [
        "a.add_(1)\n",
        "print(a)\n",
        "print(b)"
      ],
      "execution_count": 17,
      "outputs": [
        {
          "output_type": "stream",
          "name": "stdout",
          "text": "tensor([2., 2., 2., 2., 2.])\n[2. 2. 2. 2. 2.]\n"
        }
      ]
    },
    {
      "cell_type": "markdown",
      "metadata": {
        "id": "fht4f6BkUUh_",
        "colab_type": "text"
      },
      "source": [
        "Converting NumPy Array to Torch Tensor\n",
        "\n",
        "See how changing the np array changed the Torch Tensor automatically\n"
      ]
    },
    {
      "cell_type": "code",
      "metadata": {
        "id": "2ch01_kzUUiA",
        "colab_type": "code",
        "colab": {
          "base_uri": "https://localhost:8080/",
          "height": 51
        },
        "outputId": "8b395267-afdb-459a-a15e-095b9e141668",
        "tags": []
      },
      "source": [
        "import numpy as np\n",
        "a = np.ones(5)\n",
        "b = torch.from_numpy(a)\n",
        "np.add(a, 1, out=a)\n",
        "print(a)\n",
        "print(b)"
      ],
      "execution_count": 18,
      "outputs": [
        {
          "output_type": "stream",
          "name": "stdout",
          "text": "[2. 2. 2. 2. 2.]\ntensor([2., 2., 2., 2., 2.], dtype=torch.float64)\n"
        }
      ]
    },
    {
      "cell_type": "markdown",
      "metadata": {
        "id": "-RIkX0ibXuRN",
        "colab_type": "text"
      },
      "source": [
        "All the Tensors on the CPU except a CharTensor support converting to\n",
        "NumPy and back."
      ]
    },
    {
      "cell_type": "markdown",
      "metadata": {
        "id": "LFTUktIUUUiD",
        "colab_type": "text"
      },
      "source": [
        "## CUDA Tensors\n",
        "\n",
        "Tensors can be moved onto any device using the `.to` method.\n",
        "\n"
      ]
    },
    {
      "cell_type": "code",
      "metadata": {
        "id": "mWk-wTpgUUiE",
        "colab_type": "code",
        "colab": {},
        "tags": []
      },
      "source": [
        "# let us run this cell only if CUDA is available\n",
        "# We will use ``torch.device`` objects to move tensors in and out of GPU\n",
        "if torch.cuda.is_available():\n",
        "    device = torch.device(\"cuda\")          # a CUDA device object\n",
        "    y = torch.ones_like(x, device=device)  # directly create a tensor on GPU\n",
        "    x = x.to(device)                       # or just use strings ``.to(\"cuda\")``\n",
        "    z = x + y\n",
        "    print(z)\n",
        "    print(z.to(\"cpu\", torch.double))       # ``.to`` can also change dtype together!"
      ],
      "execution_count": 19,
      "outputs": [
        {
          "output_type": "stream",
          "name": "stdout",
          "text": "tensor([0.0726], device='cuda:0')\ntensor([0.0726], dtype=torch.float64)\n"
        }
      ]
    },
    {
      "cell_type": "code",
      "metadata": {
        "id": "7fhquyeAX31X",
        "colab_type": "code",
        "colab": {}
      },
      "source": [
        ""
      ],
      "execution_count": null,
      "outputs": []
    }
  ]
}