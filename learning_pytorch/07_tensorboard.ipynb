{
 "metadata": {
  "language_info": {
   "codemirror_mode": {
    "name": "ipython",
    "version": 3
   },
   "file_extension": ".py",
   "mimetype": "text/x-python",
   "name": "python",
   "nbconvert_exporter": "python",
   "pygments_lexer": "ipython3",
   "version": "3.7.7-final"
  },
  "orig_nbformat": 2,
  "kernelspec": {
   "name": "python_defaultSpec_1599330067031",
   "display_name": "Python 3.7.7 64-bit ('base': conda)"
  }
 },
 "nbformat": 4,
 "nbformat_minor": 2,
 "cells": [
  {
   "cell_type": "markdown",
   "metadata": {},
   "source": [
    "# VISUALIZING MODELS, DATA, AND TRAINING WITH TENSORBOARD\n",
    "\n",
    "In the 60 Minute Blitz, we show you how to load in data, feed it through a model we define as a subclass of nn.Module, train this model on training data, and test it on test data. To see what’s happening, we print out some statistics as the model is training to get a sense for whether training is progressing. However, we can do much better than that: PyTorch integrates with TensorBoard, a tool designed for visualizing the results of neural network training runs. This tutorial illustrates some of its functionality, using the Fashion-MNIST dataset which can be read into PyTorch using torchvision.datasets.\n",
    "\n",
    "In this tutorial, we’ll learn how to:\n",
    "\n",
    "- Read in data and with appropriate transforms (nearly identical to the prior tutorial).\n",
    "- Set up TensorBoard.\n",
    "- Write to TensorBoard.\n",
    "- Inspect a model architecture using TensorBoard.\n",
    "- Use TensorBoard to create interactive versions of the visualizations we created in last tutorial, with less code\n",
    "\n",
    "Specifically, on point #5, we’ll see:\n",
    "\n",
    "- A couple of ways to inspect our training data\n",
    "- How to track our model’s performance as it trains\n",
    "- How to assess our model’s performance once it is trained.\n",
    "\n",
    "We’ll begin with similar boilerplate code as in the CIFAR-10 tutorial:"
   ]
  },
  {
   "cell_type": "code",
   "execution_count": 1,
   "metadata": {
    "tags": []
   },
   "outputs": [],
   "source": [
    "import matplotlib.pyplot as plt\n",
    "import numpy as np\n",
    "\n",
    "import torch\n",
    "import torchvision\n",
    "import torchvision.transforms as transforms\n",
    "\n",
    "import torch.nn as nn\n",
    "import torch.nn.functional as F\n",
    "import torch.optim as optim\n",
    "\n",
    "# transforms\n",
    "transform = transforms.Compose(\n",
    "    [transforms.ToTensor(), transforms.Normalize((0.5,), (0.5,))]\n",
    ")\n",
    "\n",
    "# datasets\n",
    "trainset = torchvision.datasets.FashionMNIST(\n",
    "    '../data',\n",
    "    download=True,\n",
    "    train=True,\n",
    "    transform=transform\n",
    ")\n",
    "testset = torchvision.datasets.FashionMNIST(\n",
    "    '../data',\n",
    "    download=True,\n",
    "    train=False,\n",
    "    transform=transform\n",
    ")\n",
    "\n",
    "# dataloaders\n",
    "bs = 4\n",
    "trainloader = torch.utils.data.DataLoader(\n",
    "    trainset, batch_size=bs,\n",
    "    shuffle=True, num_workers=2\n",
    ")\n",
    "\n",
    "testloader = torch.utils.data.DataLoader(\n",
    "    testset, batch_size=bs * 2,\n",
    "    shuffle=False, num_workers=2\n",
    ")\n",
    "\n",
    "# constant for classes\n",
    "classes = (\n",
    "    'T-shirt/top', 'Trouser', 'Pullover', 'Dress', 'Coat',\n",
    "    'Sandal', 'Shirt', 'Sneaker', 'Bag', 'Ankle Boot'\n",
    ")\n",
    "\n",
    "# helper function to show an image\n",
    "# (used in the `plot_classes_preds` function below)\n",
    "def matplotlib_imshow(img, one_channel=False):\n",
    "    if one_channel:\n",
    "        img = img.mean(dim=0)\n",
    "    img = img / 2 + 0.5     # unnormalize\n",
    "    npimg = img.numpy()\n",
    "    if one_channel:\n",
    "        plt.imshow(npimg, cmap=\"Greys\")\n",
    "    else:\n",
    "        plt.imshow(np.transpose(npimg, (1, 2, 0)))"
   ]
  },
  {
   "cell_type": "markdown",
   "metadata": {},
   "source": [
    "We’ll define a similar model architecture from that tutorial, making only minor modifications to account for the fact that the images are now one channel instead of three and 28x28 instead of 32x32:"
   ]
  },
  {
   "cell_type": "code",
   "execution_count": 2,
   "metadata": {},
   "outputs": [],
   "source": [
    "class Net(nn.Module):\n",
    "    def __init__(self):\n",
    "        super(Net, self).__init__()\n",
    "        self.conv1 = nn.Conv2d(1, 6, 5)\n",
    "        self.pool = nn.MaxPool2d(2, 2)\n",
    "        self.conv2 = nn.Conv2d(6, 16, 5)\n",
    "        self.fc1 = nn.Linear(16 * 4 * 4, 120)\n",
    "        self.fc2 = nn.Linear(120, 84)\n",
    "        self.fc3 = nn.Linear(84, 10)\n",
    "\n",
    "    def forward(self, x):\n",
    "        x = self.pool(F.relu(self.conv1(x)))\n",
    "        x = self.pool(F.relu(self.conv2(x)))\n",
    "        x = x.view(-1, 16 * 4 * 4)\n",
    "        x = F.relu(self.fc1(x))\n",
    "        x = F.relu(self.fc2(x))\n",
    "        x = self.fc3(x)\n",
    "        return x\n",
    "\n",
    "net = Net()"
   ]
  },
  {
   "cell_type": "markdown",
   "metadata": {},
   "source": [
    "We’ll define the same `optimizer` and `criterion` from before:"
   ]
  },
  {
   "cell_type": "code",
   "execution_count": 3,
   "metadata": {},
   "outputs": [],
   "source": [
    "criterion = nn.CrossEntropyLoss()\n",
    "optimizer = optim.SGD(net.parameters(), lr=0.001, momentum=0.9)"
   ]
  },
  {
   "cell_type": "markdown",
   "metadata": {},
   "source": [
    "## TensorBoard setup\n",
    "\n",
    "Now we’ll set up TensorBoard, importing `tensorboard` from `torch.utils` and defining a `SummaryWriter`, our key object for writing information to TensorBoard."
   ]
  },
  {
   "cell_type": "code",
   "execution_count": 4,
   "metadata": {},
   "outputs": [],
   "source": [
    "from torch.utils.tensorboard import SummaryWriter\n",
    "\n",
    "# default `log_dir` is \"runs\" - we'll be more specific here\n",
    "writer = SummaryWriter('../runs/fashion_mnist_experiment_1')"
   ]
  },
  {
   "cell_type": "markdown",
   "metadata": {},
   "source": [
    "Note that this line alone creates a runs/fashion_mnist_experiment_1 folder."
   ]
  },
  {
   "cell_type": "markdown",
   "metadata": {},
   "source": [
    "## Writing to TensorBoard\n",
    "Now let’s write an image to our TensorBoard - specifically, a grid - using make_grid."
   ]
  },
  {
   "cell_type": "code",
   "execution_count": 5,
   "metadata": {},
   "outputs": [
    {
     "output_type": "display_data",
     "data": {
      "text/plain": "<Figure size 432x288 with 1 Axes>",
      "image/svg+xml": "<?xml version=\"1.0\" encoding=\"utf-8\" standalone=\"no\"?>\n<!DOCTYPE svg PUBLIC \"-//W3C//DTD SVG 1.1//EN\"\n  \"http://www.w3.org/Graphics/SVG/1.1/DTD/svg11.dtd\">\n<!-- Created with matplotlib (https://matplotlib.org/) -->\n<svg height=\"121.321606pt\" version=\"1.1\" viewBox=\"0 0 374.352357 121.321606\" width=\"374.352357pt\" xmlns=\"http://www.w3.org/2000/svg\" xmlns:xlink=\"http://www.w3.org/1999/xlink\">\n <defs>\n  <style type=\"text/css\">\n*{stroke-linecap:butt;stroke-linejoin:round;}\n  </style>\n </defs>\n <g id=\"figure_1\">\n  <g id=\"patch_1\">\n   <path d=\"M -0 121.321606 \nL 374.352357 121.321606 \nL 374.352357 0 \nL -0 0 \nz\n\" style=\"fill:none;\"/>\n  </g>\n  <g id=\"axes_1\">\n   <g id=\"patch_2\">\n    <path d=\"M 26.925 97.443481 \nL 361.725 97.443481 \nL 361.725 9.627088 \nL 26.925 9.627088 \nz\n\" style=\"fill:#ffffff;\"/>\n   </g>\n   <g clip-path=\"url(#p1c7fd0b489)\">\n    <image height=\"88\" id=\"image5ae4c1ff9a\" transform=\"scale(1 -1)translate(0 -88)\" width=\"335\" x=\"26.925\" xlink:href=\"data:image/png;base64,\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\" y=\"-9.443481\"/>\n   </g>\n   <g id=\"matplotlib.axis_1\">\n    <g id=\"xtick_1\">\n     <g id=\"line2d_1\">\n      <defs>\n       <path d=\"M 0 0 \nL 0 3.5 \n\" id=\"ma243290f71\" style=\"stroke:#000000;stroke-width:0.8;\"/>\n      </defs>\n      <g>\n       <use style=\"stroke:#000000;stroke-width:0.8;\" x=\"28.297131\" xlink:href=\"#ma243290f71\" y=\"97.443481\"/>\n      </g>\n     </g>\n     <g id=\"text_1\">\n      <!-- 0 -->\n      <defs>\n       <path d=\"M 31.78125 66.40625 \nQ 24.171875 66.40625 20.328125 58.90625 \nQ 16.5 51.421875 16.5 36.375 \nQ 16.5 21.390625 20.328125 13.890625 \nQ 24.171875 6.390625 31.78125 6.390625 \nQ 39.453125 6.390625 43.28125 13.890625 \nQ 47.125 21.390625 47.125 36.375 \nQ 47.125 51.421875 43.28125 58.90625 \nQ 39.453125 66.40625 31.78125 66.40625 \nz\nM 31.78125 74.21875 \nQ 44.046875 74.21875 50.515625 64.515625 \nQ 56.984375 54.828125 56.984375 36.375 \nQ 56.984375 17.96875 50.515625 8.265625 \nQ 44.046875 -1.421875 31.78125 -1.421875 \nQ 19.53125 -1.421875 13.0625 8.265625 \nQ 6.59375 17.96875 6.59375 36.375 \nQ 6.59375 54.828125 13.0625 64.515625 \nQ 19.53125 74.21875 31.78125 74.21875 \nz\n\" id=\"DejaVuSans-48\"/>\n      </defs>\n      <g transform=\"translate(25.115881 112.041919)scale(0.1 -0.1)\">\n       <use xlink:href=\"#DejaVuSans-48\"/>\n      </g>\n     </g>\n    </g>\n    <g id=\"xtick_2\">\n     <g id=\"line2d_2\">\n      <g>\n       <use style=\"stroke:#000000;stroke-width:0.8;\" x=\"83.182377\" xlink:href=\"#ma243290f71\" y=\"97.443481\"/>\n      </g>\n     </g>\n     <g id=\"text_2\">\n      <!-- 20 -->\n      <defs>\n       <path d=\"M 19.1875 8.296875 \nL 53.609375 8.296875 \nL 53.609375 0 \nL 7.328125 0 \nL 7.328125 8.296875 \nQ 12.9375 14.109375 22.625 23.890625 \nQ 32.328125 33.6875 34.8125 36.53125 \nQ 39.546875 41.84375 41.421875 45.53125 \nQ 43.3125 49.21875 43.3125 52.78125 \nQ 43.3125 58.59375 39.234375 62.25 \nQ 35.15625 65.921875 28.609375 65.921875 \nQ 23.96875 65.921875 18.8125 64.3125 \nQ 13.671875 62.703125 7.8125 59.421875 \nL 7.8125 69.390625 \nQ 13.765625 71.78125 18.9375 73 \nQ 24.125 74.21875 28.421875 74.21875 \nQ 39.75 74.21875 46.484375 68.546875 \nQ 53.21875 62.890625 53.21875 53.421875 \nQ 53.21875 48.921875 51.53125 44.890625 \nQ 49.859375 40.875 45.40625 35.40625 \nQ 44.1875 33.984375 37.640625 27.21875 \nQ 31.109375 20.453125 19.1875 8.296875 \nz\n\" id=\"DejaVuSans-50\"/>\n      </defs>\n      <g transform=\"translate(76.819877 112.041919)scale(0.1 -0.1)\">\n       <use xlink:href=\"#DejaVuSans-50\"/>\n       <use x=\"63.623047\" xlink:href=\"#DejaVuSans-48\"/>\n      </g>\n     </g>\n    </g>\n    <g id=\"xtick_3\">\n     <g id=\"line2d_3\">\n      <g>\n       <use style=\"stroke:#000000;stroke-width:0.8;\" x=\"138.067623\" xlink:href=\"#ma243290f71\" y=\"97.443481\"/>\n      </g>\n     </g>\n     <g id=\"text_3\">\n      <!-- 40 -->\n      <defs>\n       <path d=\"M 37.796875 64.3125 \nL 12.890625 25.390625 \nL 37.796875 25.390625 \nz\nM 35.203125 72.90625 \nL 47.609375 72.90625 \nL 47.609375 25.390625 \nL 58.015625 25.390625 \nL 58.015625 17.1875 \nL 47.609375 17.1875 \nL 47.609375 0 \nL 37.796875 0 \nL 37.796875 17.1875 \nL 4.890625 17.1875 \nL 4.890625 26.703125 \nz\n\" id=\"DejaVuSans-52\"/>\n      </defs>\n      <g transform=\"translate(131.705123 112.041919)scale(0.1 -0.1)\">\n       <use xlink:href=\"#DejaVuSans-52\"/>\n       <use x=\"63.623047\" xlink:href=\"#DejaVuSans-48\"/>\n      </g>\n     </g>\n    </g>\n    <g id=\"xtick_4\">\n     <g id=\"line2d_4\">\n      <g>\n       <use style=\"stroke:#000000;stroke-width:0.8;\" x=\"192.952869\" xlink:href=\"#ma243290f71\" y=\"97.443481\"/>\n      </g>\n     </g>\n     <g id=\"text_4\">\n      <!-- 60 -->\n      <defs>\n       <path d=\"M 33.015625 40.375 \nQ 26.375 40.375 22.484375 35.828125 \nQ 18.609375 31.296875 18.609375 23.390625 \nQ 18.609375 15.53125 22.484375 10.953125 \nQ 26.375 6.390625 33.015625 6.390625 \nQ 39.65625 6.390625 43.53125 10.953125 \nQ 47.40625 15.53125 47.40625 23.390625 \nQ 47.40625 31.296875 43.53125 35.828125 \nQ 39.65625 40.375 33.015625 40.375 \nz\nM 52.59375 71.296875 \nL 52.59375 62.3125 \nQ 48.875 64.0625 45.09375 64.984375 \nQ 41.3125 65.921875 37.59375 65.921875 \nQ 27.828125 65.921875 22.671875 59.328125 \nQ 17.53125 52.734375 16.796875 39.40625 \nQ 19.671875 43.65625 24.015625 45.921875 \nQ 28.375 48.1875 33.59375 48.1875 \nQ 44.578125 48.1875 50.953125 41.515625 \nQ 57.328125 34.859375 57.328125 23.390625 \nQ 57.328125 12.15625 50.6875 5.359375 \nQ 44.046875 -1.421875 33.015625 -1.421875 \nQ 20.359375 -1.421875 13.671875 8.265625 \nQ 6.984375 17.96875 6.984375 36.375 \nQ 6.984375 53.65625 15.1875 63.9375 \nQ 23.390625 74.21875 37.203125 74.21875 \nQ 40.921875 74.21875 44.703125 73.484375 \nQ 48.484375 72.75 52.59375 71.296875 \nz\n\" id=\"DejaVuSans-54\"/>\n      </defs>\n      <g transform=\"translate(186.590369 112.041919)scale(0.1 -0.1)\">\n       <use xlink:href=\"#DejaVuSans-54\"/>\n       <use x=\"63.623047\" xlink:href=\"#DejaVuSans-48\"/>\n      </g>\n     </g>\n    </g>\n    <g id=\"xtick_5\">\n     <g id=\"line2d_5\">\n      <g>\n       <use style=\"stroke:#000000;stroke-width:0.8;\" x=\"247.838115\" xlink:href=\"#ma243290f71\" y=\"97.443481\"/>\n      </g>\n     </g>\n     <g id=\"text_5\">\n      <!-- 80 -->\n      <defs>\n       <path d=\"M 31.78125 34.625 \nQ 24.75 34.625 20.71875 30.859375 \nQ 16.703125 27.09375 16.703125 20.515625 \nQ 16.703125 13.921875 20.71875 10.15625 \nQ 24.75 6.390625 31.78125 6.390625 \nQ 38.8125 6.390625 42.859375 10.171875 \nQ 46.921875 13.96875 46.921875 20.515625 \nQ 46.921875 27.09375 42.890625 30.859375 \nQ 38.875 34.625 31.78125 34.625 \nz\nM 21.921875 38.8125 \nQ 15.578125 40.375 12.03125 44.71875 \nQ 8.5 49.078125 8.5 55.328125 \nQ 8.5 64.0625 14.71875 69.140625 \nQ 20.953125 74.21875 31.78125 74.21875 \nQ 42.671875 74.21875 48.875 69.140625 \nQ 55.078125 64.0625 55.078125 55.328125 \nQ 55.078125 49.078125 51.53125 44.71875 \nQ 48 40.375 41.703125 38.8125 \nQ 48.828125 37.15625 52.796875 32.3125 \nQ 56.78125 27.484375 56.78125 20.515625 \nQ 56.78125 9.90625 50.3125 4.234375 \nQ 43.84375 -1.421875 31.78125 -1.421875 \nQ 19.734375 -1.421875 13.25 4.234375 \nQ 6.78125 9.90625 6.78125 20.515625 \nQ 6.78125 27.484375 10.78125 32.3125 \nQ 14.796875 37.15625 21.921875 38.8125 \nz\nM 18.3125 54.390625 \nQ 18.3125 48.734375 21.84375 45.5625 \nQ 25.390625 42.390625 31.78125 42.390625 \nQ 38.140625 42.390625 41.71875 45.5625 \nQ 45.3125 48.734375 45.3125 54.390625 \nQ 45.3125 60.0625 41.71875 63.234375 \nQ 38.140625 66.40625 31.78125 66.40625 \nQ 25.390625 66.40625 21.84375 63.234375 \nQ 18.3125 60.0625 18.3125 54.390625 \nz\n\" id=\"DejaVuSans-56\"/>\n      </defs>\n      <g transform=\"translate(241.475615 112.041919)scale(0.1 -0.1)\">\n       <use xlink:href=\"#DejaVuSans-56\"/>\n       <use x=\"63.623047\" xlink:href=\"#DejaVuSans-48\"/>\n      </g>\n     </g>\n    </g>\n    <g id=\"xtick_6\">\n     <g id=\"line2d_6\">\n      <g>\n       <use style=\"stroke:#000000;stroke-width:0.8;\" x=\"302.723361\" xlink:href=\"#ma243290f71\" y=\"97.443481\"/>\n      </g>\n     </g>\n     <g id=\"text_6\">\n      <!-- 100 -->\n      <defs>\n       <path d=\"M 12.40625 8.296875 \nL 28.515625 8.296875 \nL 28.515625 63.921875 \nL 10.984375 60.40625 \nL 10.984375 69.390625 \nL 28.421875 72.90625 \nL 38.28125 72.90625 \nL 38.28125 8.296875 \nL 54.390625 8.296875 \nL 54.390625 0 \nL 12.40625 0 \nz\n\" id=\"DejaVuSans-49\"/>\n      </defs>\n      <g transform=\"translate(293.179611 112.041919)scale(0.1 -0.1)\">\n       <use xlink:href=\"#DejaVuSans-49\"/>\n       <use x=\"63.623047\" xlink:href=\"#DejaVuSans-48\"/>\n       <use x=\"127.246094\" xlink:href=\"#DejaVuSans-48\"/>\n      </g>\n     </g>\n    </g>\n    <g id=\"xtick_7\">\n     <g id=\"line2d_7\">\n      <g>\n       <use style=\"stroke:#000000;stroke-width:0.8;\" x=\"357.608607\" xlink:href=\"#ma243290f71\" y=\"97.443481\"/>\n      </g>\n     </g>\n     <g id=\"text_7\">\n      <!-- 120 -->\n      <g transform=\"translate(348.064857 112.041919)scale(0.1 -0.1)\">\n       <use xlink:href=\"#DejaVuSans-49\"/>\n       <use x=\"63.623047\" xlink:href=\"#DejaVuSans-50\"/>\n       <use x=\"127.246094\" xlink:href=\"#DejaVuSans-48\"/>\n      </g>\n     </g>\n    </g>\n   </g>\n   <g id=\"matplotlib.axis_2\">\n    <g id=\"ytick_1\">\n     <g id=\"line2d_8\">\n      <defs>\n       <path d=\"M 0 0 \nL -3.5 0 \n\" id=\"m851a7f46cc\" style=\"stroke:#000000;stroke-width:0.8;\"/>\n      </defs>\n      <g>\n       <use style=\"stroke:#000000;stroke-width:0.8;\" x=\"26.925\" xlink:href=\"#m851a7f46cc\" y=\"10.999219\"/>\n      </g>\n     </g>\n     <g id=\"text_8\">\n      <!-- 0 -->\n      <g transform=\"translate(13.5625 14.798437)scale(0.1 -0.1)\">\n       <use xlink:href=\"#DejaVuSans-48\"/>\n      </g>\n     </g>\n    </g>\n    <g id=\"ytick_2\">\n     <g id=\"line2d_9\">\n      <g>\n       <use style=\"stroke:#000000;stroke-width:0.8;\" x=\"26.925\" xlink:href=\"#m851a7f46cc\" y=\"38.441842\"/>\n      </g>\n     </g>\n     <g id=\"text_9\">\n      <!-- 10 -->\n      <g transform=\"translate(7.2 42.24106)scale(0.1 -0.1)\">\n       <use xlink:href=\"#DejaVuSans-49\"/>\n       <use x=\"63.623047\" xlink:href=\"#DejaVuSans-48\"/>\n      </g>\n     </g>\n    </g>\n    <g id=\"ytick_3\">\n     <g id=\"line2d_10\">\n      <g>\n       <use style=\"stroke:#000000;stroke-width:0.8;\" x=\"26.925\" xlink:href=\"#m851a7f46cc\" y=\"65.884465\"/>\n      </g>\n     </g>\n     <g id=\"text_10\">\n      <!-- 20 -->\n      <g transform=\"translate(7.2 69.683683)scale(0.1 -0.1)\">\n       <use xlink:href=\"#DejaVuSans-50\"/>\n       <use x=\"63.623047\" xlink:href=\"#DejaVuSans-48\"/>\n      </g>\n     </g>\n    </g>\n    <g id=\"ytick_4\">\n     <g id=\"line2d_11\">\n      <g>\n       <use style=\"stroke:#000000;stroke-width:0.8;\" x=\"26.925\" xlink:href=\"#m851a7f46cc\" y=\"93.327088\"/>\n      </g>\n     </g>\n     <g id=\"text_11\">\n      <!-- 30 -->\n      <defs>\n       <path d=\"M 40.578125 39.3125 \nQ 47.65625 37.796875 51.625 33 \nQ 55.609375 28.21875 55.609375 21.1875 \nQ 55.609375 10.40625 48.1875 4.484375 \nQ 40.765625 -1.421875 27.09375 -1.421875 \nQ 22.515625 -1.421875 17.65625 -0.515625 \nQ 12.796875 0.390625 7.625 2.203125 \nL 7.625 11.71875 \nQ 11.71875 9.328125 16.59375 8.109375 \nQ 21.484375 6.890625 26.8125 6.890625 \nQ 36.078125 6.890625 40.9375 10.546875 \nQ 45.796875 14.203125 45.796875 21.1875 \nQ 45.796875 27.640625 41.28125 31.265625 \nQ 36.765625 34.90625 28.71875 34.90625 \nL 20.21875 34.90625 \nL 20.21875 43.015625 \nL 29.109375 43.015625 \nQ 36.375 43.015625 40.234375 45.921875 \nQ 44.09375 48.828125 44.09375 54.296875 \nQ 44.09375 59.90625 40.109375 62.90625 \nQ 36.140625 65.921875 28.71875 65.921875 \nQ 24.65625 65.921875 20.015625 65.03125 \nQ 15.375 64.15625 9.8125 62.3125 \nL 9.8125 71.09375 \nQ 15.4375 72.65625 20.34375 73.4375 \nQ 25.25 74.21875 29.59375 74.21875 \nQ 40.828125 74.21875 47.359375 69.109375 \nQ 53.90625 64.015625 53.90625 55.328125 \nQ 53.90625 49.265625 50.4375 45.09375 \nQ 46.96875 40.921875 40.578125 39.3125 \nz\n\" id=\"DejaVuSans-51\"/>\n      </defs>\n      <g transform=\"translate(7.2 97.126306)scale(0.1 -0.1)\">\n       <use xlink:href=\"#DejaVuSans-51\"/>\n       <use x=\"63.623047\" xlink:href=\"#DejaVuSans-48\"/>\n      </g>\n     </g>\n    </g>\n   </g>\n   <g id=\"patch_3\">\n    <path d=\"M 26.925 97.443481 \nL 26.925 9.627088 \n\" style=\"fill:none;stroke:#000000;stroke-linecap:square;stroke-linejoin:miter;stroke-width:0.8;\"/>\n   </g>\n   <g id=\"patch_4\">\n    <path d=\"M 361.725 97.443481 \nL 361.725 9.627088 \n\" style=\"fill:none;stroke:#000000;stroke-linecap:square;stroke-linejoin:miter;stroke-width:0.8;\"/>\n   </g>\n   <g id=\"patch_5\">\n    <path d=\"M 26.925 97.443481 \nL 361.725 97.443481 \n\" style=\"fill:none;stroke:#000000;stroke-linecap:square;stroke-linejoin:miter;stroke-width:0.8;\"/>\n   </g>\n   <g id=\"patch_6\">\n    <path d=\"M 26.925 9.627088 \nL 361.725 9.627088 \n\" style=\"fill:none;stroke:#000000;stroke-linecap:square;stroke-linejoin:miter;stroke-width:0.8;\"/>\n   </g>\n  </g>\n </g>\n <defs>\n  <clipPath id=\"p1c7fd0b489\">\n   <rect height=\"87.816393\" width=\"334.8\" x=\"26.925\" y=\"9.627088\"/>\n  </clipPath>\n </defs>\n</svg>\n",
      "image/png": "[encoded data removed]"
     },
     "metadata": {
      "needs_background": "light"
     }
    }
   ],
   "source": [
    "dataiter = iter(trainloader)\n",
    "images, labels = dataiter.next()\n",
    "\n",
    "# create grid of images\n",
    "img_grid = torchvision.utils.make_grid(images)\n",
    "\n",
    "# show images\n",
    "matplotlib_imshow(img_grid, one_channel=True)\n",
    "\n",
    "# write to tensorboard\n",
    "writer.add_image('four_fashion_mnist_images', img_grid)"
   ]
  },
  {
   "cell_type": "markdown",
   "metadata": {},
   "source": [
    "Now running `tensorboard --logdir=runs` from the command line and then navigating to <https://localhost:6006> should show the following."
   ]
  },
  {
   "cell_type": "markdown",
   "metadata": {},
   "source": [
    "## Inspect the model using TensorBoard\n",
    "\n",
    "One of TensorBoard’s strengths is its ability to visualize complex model structures. Let’s visualize the model we built."
   ]
  },
  {
   "cell_type": "code",
   "execution_count": 6,
   "metadata": {},
   "outputs": [],
   "source": [
    "writer.add_graph(net, images)\n",
    "writer.close()"
   ]
  },
  {
   "cell_type": "markdown",
   "metadata": {},
   "source": [
    "TensorBoard has a very handy feature for visualizing high dimensional data such as image data in a lower dimensional space; we’ll cover this next."
   ]
  },
  {
   "cell_type": "markdown",
   "metadata": {},
   "source": [
    "## Adding a “Projector” to TensorBoard\n",
    "We can visualize the lower dimensional representation of higher dimensional data via the add_embedding method"
   ]
  },
  {
   "cell_type": "code",
   "execution_count": 7,
   "metadata": {
    "tags": []
   },
   "outputs": [],
   "source": [
    "# helper function\n",
    "def select_n_random(data, labels, n=100):\n",
    "    '''\n",
    "    Selects n random datapoints and their corresponding labels from a dataset\n",
    "    '''\n",
    "    assert len(data) == len(labels)\n",
    "\n",
    "    perm = torch.randperm(len(data))\n",
    "    return data[perm][:n], labels[perm][:n]\n",
    "\n",
    "# select random images and their target indices\n",
    "images, labels = select_n_random(trainset.data, trainset.targets)\n",
    "\n",
    "# get the class labels for each image\n",
    "class_labels = [classes[lab] for lab in labels]\n",
    "\n",
    "# log embeddings\n",
    "# features = images.view(-1, 28 * 28)\n",
    "# writer.add_embedding(\n",
    "#     features,\n",
    "#     metadata=class_labels,\n",
    "#     label_img=images.unsqueeze(1)\n",
    "# )\n",
    "# writer.close()"
   ]
  },
  {
   "cell_type": "markdown",
   "metadata": {},
   "source": [
    "Now in the “Projector” tab of TensorBoard, you can see these 100 images - each of which is 784 dimensional - projected down into three dimensional space. Furthermore, this is interactive: you can click and drag to rotate the three dimensional projection. Finally, a couple of tips to make the visualization easier to see: select “color: label” on the top left, as well as enabling “night mode”, which will make the images easier to see since their background is white.\n",
    "\n",
    "Now we’ve thoroughly inspected our data, let’s show how TensorBoard can make tracking model training and evaluation clearer, starting with training."
   ]
  },
  {
   "cell_type": "markdown",
   "metadata": {},
   "source": [
    "## Tracking model training with TensorBoard\n",
    "\n",
    "In the previous example, we simply printed the model’s running loss every 2000 iterations. Now, we’ll instead log the running loss to TensorBoard, along with a view into the predictions the model is making via the plot_classes_preds function."
   ]
  },
  {
   "cell_type": "code",
   "execution_count": 8,
   "metadata": {},
   "outputs": [],
   "source": [
    "# helper functions\n",
    "\n",
    "def images_to_probs(net, images):\n",
    "    '''\n",
    "    Generates predictions and corresponding probabilities from a trained\n",
    "    network and a list of images\n",
    "    '''\n",
    "    output = net(images)\n",
    "    # convert output probabilities to predicted class\n",
    "    _, preds_tensor = torch.max(output, 1)\n",
    "    preds = np.squeeze(preds_tensor.numpy())\n",
    "    return preds, [F.softmax(el, dim=0)[i].item() for i, el in zip(preds, output)]\n",
    "\n",
    "\n",
    "def plot_classes_preds(net, images, labels):\n",
    "    '''\n",
    "    Generates matplotlib Figure using a trained network, along with images\n",
    "    and labels from a batch, that shows the network's top prediction along\n",
    "    with its probability, alongside the actual label, coloring this\n",
    "    information based on whether the prediction was correct or not.\n",
    "    Uses the \"images_to_probs\" function.\n",
    "    '''\n",
    "    preds, probs = images_to_probs(net, images)\n",
    "    # plot the images in the batch, along with predicted and true labels\n",
    "    fig = plt.figure(figsize=(12, 48))\n",
    "    for idx in np.arange(4):\n",
    "        ax = fig.add_subplot(1, 4, idx+1, xticks=[], yticks=[])\n",
    "        matplotlib_imshow(images[idx], one_channel=True)\n",
    "        ax.set_title(\"{0}, {1:.1f}%\\n(label: {2})\".format(\n",
    "            classes[preds[idx]],\n",
    "            probs[idx] * 100.0,\n",
    "            classes[labels[idx]]),\n",
    "                    color=(\"green\" if preds[idx]==labels[idx].item() else \"red\"))\n",
    "    return fig"
   ]
  },
  {
   "cell_type": "markdown",
   "metadata": {},
   "source": [
    "Finally, let’s train the model using the same model training code from the prior tutorial, but writing results to TensorBoard every 1000 batches instead of printing to console; this is done using the add_scalar function.\n",
    "\n",
    "In addition, as we train, we’ll generate an image showing the model’s predictions vs. the actual results on the four images included in that batch."
   ]
  },
  {
   "cell_type": "code",
   "execution_count": 9,
   "metadata": {
    "tags": []
   },
   "outputs": [
    {
     "output_type": "stream",
     "name": "stdout",
     "text": "Finished Training\n"
    }
   ],
   "source": [
    "running_loss = 0.0\n",
    "for epoch in range(1):  # loop over the dataset multiple times\n",
    "\n",
    "    for i, data in enumerate(trainloader, 0):\n",
    "\n",
    "        # get the inputs; data is a list of [inputs, labels]\n",
    "        inputs, labels = data\n",
    "\n",
    "        # zero the parameter gradients\n",
    "        optimizer.zero_grad()\n",
    "\n",
    "        # forward + backward + optimize\n",
    "        outputs = net(inputs)\n",
    "        loss = criterion(outputs, labels)\n",
    "        loss.backward()\n",
    "        optimizer.step()\n",
    "\n",
    "        running_loss += loss.item()\n",
    "        if i % 1000 == 999:    # every 1000 mini-batches...\n",
    "\n",
    "            # ...log the running loss\n",
    "            writer.add_scalar('training loss',\n",
    "                            running_loss / 1000,\n",
    "                            epoch * len(trainloader) + i)\n",
    "\n",
    "            # ...log a Matplotlib Figure showing the model's predictions on a\n",
    "            # random mini-batch\n",
    "            writer.add_figure(\n",
    "                'predictions vs. actuals',\n",
    "                plot_classes_preds(net, inputs, labels),\n",
    "                global_step=epoch * len(trainloader) + i\n",
    "            )\n",
    "            running_loss = 0.0\n",
    "print('Finished Training')"
   ]
  },
  {
   "cell_type": "markdown",
   "metadata": {},
   "source": [
    "You can now look at the scalars tab to see the running loss plotted over the 15,000 iterations of training\n",
    "\n",
    "n addition, we can look at the predictions the model made on arbitrary batches throughout learning. See the “Images” tab and scroll down under the “predictions vs. actuals” visualization to see this; this shows us that, for example, after just 3000 training iterations, the model was already able to distinguish between visually distinct classes such as shirts, sneakers, and coats, though it isn’t as confident as it becomes later on in training"
   ]
  },
  {
   "cell_type": "markdown",
   "metadata": {},
   "source": [
    "## Assessing trained models with TensorBoard"
   ]
  },
  {
   "cell_type": "code",
   "execution_count": 10,
   "metadata": {},
   "outputs": [],
   "source": [
    "# 1. gets the probability predictions in a test_size x num_classes Tensor\n",
    "# 2. gets the preds in a test_size Tensor\n",
    "# takes ~10 seconds to run\n",
    "class_probs = []\n",
    "class_preds = []\n",
    "with torch.no_grad():\n",
    "    for data in testloader:\n",
    "        images, labels = data\n",
    "        output = net(images)\n",
    "        class_probs_batch = [F.softmax(el, dim=0) for el in output]\n",
    "        _, class_preds_batch = torch.max(output, 1)\n",
    "\n",
    "        class_probs.append(class_probs_batch)\n",
    "        class_preds.append(class_preds_batch)\n",
    "\n",
    "test_probs = torch.cat([torch.stack(batch) for batch in class_probs])\n",
    "test_preds = torch.cat(class_preds)\n",
    "\n",
    "# helper function\n",
    "def add_pr_curve_tensorboard(class_index, test_probs, test_preds, global_step=0):\n",
    "    '''\n",
    "    Takes in a \"class_index\" from 0 to 9 and plots the corresponding\n",
    "    precision-recall curve\n",
    "    '''\n",
    "    tensorboard_preds = test_preds == class_index\n",
    "    tensorboard_probs = test_probs[:, class_index]\n",
    "\n",
    "    writer.add_pr_curve(classes[class_index],\n",
    "                        tensorboard_preds,\n",
    "                        tensorboard_probs,\n",
    "                        global_step=global_step)\n",
    "    writer.close()\n",
    "\n",
    "# plot all the pr curves\n",
    "for i in range(len(classes)):\n",
    "    add_pr_curve_tensorboard(i, test_probs, test_preds)"
   ]
  },
  {
   "cell_type": "markdown",
   "metadata": {},
   "source": [
    "You will now see a “PR Curves” tab that contains the precision-recall curves for each class. Go ahead and poke around; you’ll see that on some classes the model has nearly 100% “area under the curve”, whereas on others this area is lower"
   ]
  },
  {
   "cell_type": "markdown",
   "metadata": {},
   "source": [
    "And that’s an intro to TensorBoard and PyTorch’s integration with it. Of course, you could do everything TensorBoard does in your Jupyter Notebook, but with TensorBoard, you gets visuals that are interactive by default."
   ]
  }
 ]
}